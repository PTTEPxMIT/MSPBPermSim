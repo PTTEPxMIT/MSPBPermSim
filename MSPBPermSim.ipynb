{
 "cells": [
  {
   "cell_type": "code",
   "execution_count": 5,
   "metadata": {},
   "outputs": [
    {
     "ename": "ModuleNotFoundError",
     "evalue": "No module named 'MSPBPermFuncs'",
     "output_type": "error",
     "traceback": [
      "\u001b[0;31m---------------------------------------------------------------------------\u001b[0m",
      "\u001b[0;31mModuleNotFoundError\u001b[0m                       Traceback (most recent call last)",
      "Cell \u001b[0;32mIn[5], line 6\u001b[0m\n\u001b[1;32m      4\u001b[0m \u001b[38;5;28;01mimport\u001b[39;00m \u001b[38;5;21;01mh_transport_materials\u001b[39;00m \u001b[38;5;28;01mas\u001b[39;00m \u001b[38;5;21;01mhtm\u001b[39;00m\n\u001b[1;32m      5\u001b[0m \u001b[38;5;28;01mimport\u001b[39;00m \u001b[38;5;21;01mmatplotlib\u001b[39;00m\u001b[38;5;21;01m.\u001b[39;00m\u001b[38;5;21;01mpyplot\u001b[39;00m \u001b[38;5;28;01mas\u001b[39;00m \u001b[38;5;21;01mplt\u001b[39;00m\n\u001b[0;32m----> 6\u001b[0m \u001b[38;5;28;01mfrom\u001b[39;00m \u001b[38;5;21;01mMSPBPermFuncs\u001b[39;00m \u001b[38;5;28;01mimport\u001b[39;00m \u001b[38;5;241m*\u001b[39m\n",
      "\u001b[0;31mModuleNotFoundError\u001b[0m: No module named 'MSPBPermFuncs'"
     ]
    }
   ],
   "source": [
    "import festim as F\n",
    "import fenics as f\n",
    "import numpy as np\n",
    "import h_transport_materials as htm\n",
    "import matplotlib.pyplot as plt\n",
    "from MSPBPermFuncs import *"
   ]
  },
  {
   "cell_type": "markdown",
   "metadata": {},
   "source": [
    "Model parameters:"
   ]
  },
  {
   "cell_type": "code",
   "execution_count": null,
   "metadata": {},
   "outputs": [],
   "source": [
    "t_substrate = 1e-03\n",
    "t_barrier = 1e-06\n",
    "perm_model = F.simulation()"
   ]
  },
  {
   "cell_type": "code",
   "execution_count": null,
   "metadata": {},
   "outputs": [],
   "source": [
    "# Assigning materials\n",
    "barrier_D = htm.diffusivities.filter(material=\"tungsten\")[0]\n",
    "barrier_S = htm.solubilities.filter(material=\"tungsten\")[0]\n",
    "substrate_D = htm.diffusivities.filter(material=\"316l_steel\").filter(author=\"reiter\").filter(year=1996)[0]\n",
    "substrate_S = htm.solubilities.filter(material=\"316l_steel\").filter(author=\"reiter\").filter(year=1996)[0]\n",
    "\n",
    "AssignMaterials(perm_model, barrier_D, barrier_S, substrate_D, substrate_S)"
   ]
  },
  {
   "cell_type": "code",
   "execution_count": null,
   "metadata": {},
   "outputs": [],
   "source": [
    "t_substrate = 1e-03\n",
    "t_barrier = 1e-06\n",
    "MeshModel(perm_model, t_barrier, t_substrate)"
   ]
  },
  {
   "cell_type": "code",
   "execution_count": null,
   "metadata": {},
   "outputs": [],
   "source": [
    "T = 600 # K\n",
    "P_up = 1e04 # Pa\n",
    "ApplyBCs(perm_model, T, P_up, barrier_S)"
   ]
  },
  {
   "cell_type": "code",
   "execution_count": null,
   "metadata": {},
   "outputs": [],
   "source": [
    "folder = 'results'\n",
    "final_time = 1e05\n",
    "derived_quantities = RunModel(perm_model, final_time, folder)"
   ]
  },
  {
   "cell_type": "code",
   "execution_count": null,
   "metadata": {},
   "outputs": [],
   "source": [
    "times = derived_quantities.t\n",
    "computed_flux = derived_quantities.filter(surfaces=2, fields=\"solute\").data\n",
    "computed_flux = -np.array(computed_flux)\n",
    "\n",
    "plt.figure()\n",
    "\n",
    "plt.plot(times, computed_flux, label=\"hydrogen flux H/m^2/s\")\n",
    "\n",
    "plt.xscale(\"log\")\n",
    "plt.legend()\n",
    "plt.xlabel(\"Time (s)\")\n",
    "plt.ylabel(\"Permeation flux (H/m2/s)\")\n",
    "plt.show()"
   ]
  }
 ],
 "metadata": {
  "kernelspec": {
   "display_name": "festim-env",
   "language": "python",
   "name": "python3"
  },
  "language_info": {
   "codemirror_mode": {
    "name": "ipython",
    "version": 3
   },
   "file_extension": ".py",
   "mimetype": "text/x-python",
   "name": "python",
   "nbconvert_exporter": "python",
   "pygments_lexer": "ipython3",
   "version": "3.11.6"
  }
 },
 "nbformat": 4,
 "nbformat_minor": 2
}
